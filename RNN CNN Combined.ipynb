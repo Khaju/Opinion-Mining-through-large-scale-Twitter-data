{
  "nbformat": 4,
  "nbformat_minor": 0,
  "metadata": {
    "colab": {
      "name": "NLP-RNN-CNN.ipynb",
      "version": "0.3.2",
      "provenance": [],
      "collapsed_sections": []
    },
    "kernelspec": {
      "name": "python2",
      "display_name": "Python 2"
    },
    "accelerator": "GPU"
  },
  "cells": [
    {
      "metadata": {
        "id": "wSbSE0b0ZSwV",
        "colab_type": "code",
        "outputId": "d90eedcd-8c94-4f10-8626-923243e059b2",
        "colab": {
          "base_uri": "https://localhost:8080/",
          "height": 34
        }
      },
      "cell_type": "code",
      "source": [
        "from google.colab import drive\n",
        "drive.mount('/content/drive')"
      ],
      "execution_count": 0,
      "outputs": [
        {
          "output_type": "stream",
          "text": [
            "Drive already mounted at /content/drive; to attempt to forcibly remount, call drive.mount(\"/content/drive\", force_remount=True).\n"
          ],
          "name": "stdout"
        }
      ]
    },
    {
      "metadata": {
        "id": "hXQ_L2m7Zkce",
        "colab_type": "code",
        "outputId": "f55277d6-49fa-424e-86cb-5f25f9ef259a",
        "colab": {
          "base_uri": "https://localhost:8080/",
          "height": 34
        }
      },
      "cell_type": "code",
      "source": [
        "cd drive"
      ],
      "execution_count": 0,
      "outputs": [
        {
          "output_type": "stream",
          "text": [
            "/content/drive\n"
          ],
          "name": "stdout"
        }
      ]
    },
    {
      "metadata": {
        "id": "iVAv086KabyM",
        "colab_type": "code",
        "outputId": "6fd3128d-2bb4-41eb-c4be-fb9696c63b3e",
        "colab": {
          "base_uri": "https://localhost:8080/",
          "height": 34
        }
      },
      "cell_type": "code",
      "source": [
        "cd My\\ Drive"
      ],
      "execution_count": 0,
      "outputs": [
        {
          "output_type": "stream",
          "text": [
            "/content/drive/My Drive\n"
          ],
          "name": "stdout"
        }
      ]
    },
    {
      "metadata": {
        "id": "ffXtLj22aeit",
        "colab_type": "code",
        "outputId": "fb16e4f8-9f95-49c8-aa4c-26106ededb7f",
        "colab": {
          "base_uri": "https://localhost:8080/",
          "height": 34
        }
      },
      "cell_type": "code",
      "source": [
        "cd OurCode/"
      ],
      "execution_count": 0,
      "outputs": [
        {
          "output_type": "stream",
          "text": [
            "/content/drive/My Drive/OurCode\n"
          ],
          "name": "stdout"
        }
      ]
    },
    {
      "metadata": {
        "id": "-l-wxfcNahGn",
        "colab_type": "code",
        "outputId": "684cb8d7-e393-4654-fd10-8f65e479df8e",
        "colab": {
          "base_uri": "https://localhost:8080/",
          "height": 68
        }
      },
      "cell_type": "code",
      "source": [
        "import re\n",
        "import pandas as pd\n",
        "import numpy as np\n",
        "from nltk import pos_tag\n",
        "from nltk.corpus import stopwords\n",
        "from nltk.stem import PorterStemmer\n",
        "from nltk.tokenize import TweetTokenizer\n",
        "from nltk.tokenize import word_tokenize\n",
        "import nltk\n",
        "nltk.download('stopwords')\n",
        "\n",
        "from keras.preprocessing.text import Tokenizer\n",
        "from keras.preprocessing.text import text_to_word_sequence\n",
        "from keras.preprocessing.sequence import pad_sequences\n",
        "\n",
        "from keras.models import Model\n",
        "from keras.models import Sequential\n",
        "\n",
        "from keras.layers import Input, Dense, Embedding, Conv1D, Conv2D, MaxPooling1D, MaxPool2D\n",
        "from keras.layers import Reshape, Flatten, Dropout, Concatenate\n",
        "from keras.layers import SpatialDropout1D, concatenate\n",
        "from keras.layers import GRU, Bidirectional, GlobalAveragePooling1D, GlobalMaxPooling1D\n",
        "\n",
        "from keras.callbacks import Callback\n",
        "from keras.optimizers import Adam\n",
        "\n",
        "from keras.callbacks import ModelCheckpoint, EarlyStopping\n",
        "from keras.models import load_model\n",
        "#from keras.utils.vis_utils import plot_model\n",
        "\n",
        "from sklearn.utils import shuffle"
      ],
      "execution_count": 0,
      "outputs": [
        {
          "output_type": "stream",
          "text": [
            "[nltk_data] Downloading package stopwords to /root/nltk_data...\n",
            "[nltk_data]   Package stopwords is already up-to-date!\n"
          ],
          "name": "stdout"
        },
        {
          "output_type": "stream",
          "text": [
            "Using TensorFlow backend.\n"
          ],
          "name": "stderr"
        }
      ]
    },
    {
      "metadata": {
        "id": "kGQXQSY8cY8r",
        "colab_type": "code",
        "outputId": "cc816fab-c6b1-4d29-c271-571d76647489",
        "colab": {
          "base_uri": "https://localhost:8080/",
          "height": 204
        }
      },
      "cell_type": "code",
      "source": [
        "data = pd.read_csv(\"BigTraining.csv\",header=None)\n",
        "data.head()"
      ],
      "execution_count": 0,
      "outputs": [
        {
          "output_type": "execute_result",
          "data": {
            "text/html": [
              "<div>\n",
              "<style scoped>\n",
              "    .dataframe tbody tr th:only-of-type {\n",
              "        vertical-align: middle;\n",
              "    }\n",
              "\n",
              "    .dataframe tbody tr th {\n",
              "        vertical-align: top;\n",
              "    }\n",
              "\n",
              "    .dataframe thead th {\n",
              "        text-align: right;\n",
              "    }\n",
              "</style>\n",
              "<table border=\"1\" class=\"dataframe\">\n",
              "  <thead>\n",
              "    <tr style=\"text-align: right;\">\n",
              "      <th></th>\n",
              "      <th>0</th>\n",
              "      <th>1</th>\n",
              "      <th>2</th>\n",
              "      <th>3</th>\n",
              "      <th>4</th>\n",
              "      <th>5</th>\n",
              "    </tr>\n",
              "  </thead>\n",
              "  <tbody>\n",
              "    <tr>\n",
              "      <th>0</th>\n",
              "      <td>0</td>\n",
              "      <td>1467810369</td>\n",
              "      <td>Mon Apr 06 22:19:45 PDT 2009</td>\n",
              "      <td>NO_QUERY</td>\n",
              "      <td>_TheSpecialOne_</td>\n",
              "      <td>@switchfoot http://twitpic.com/2y1zl - Awww, t...</td>\n",
              "    </tr>\n",
              "    <tr>\n",
              "      <th>1</th>\n",
              "      <td>0</td>\n",
              "      <td>1467810672</td>\n",
              "      <td>Mon Apr 06 22:19:49 PDT 2009</td>\n",
              "      <td>NO_QUERY</td>\n",
              "      <td>scotthamilton</td>\n",
              "      <td>is upset that he can't update his Facebook by ...</td>\n",
              "    </tr>\n",
              "    <tr>\n",
              "      <th>2</th>\n",
              "      <td>0</td>\n",
              "      <td>1467810917</td>\n",
              "      <td>Mon Apr 06 22:19:53 PDT 2009</td>\n",
              "      <td>NO_QUERY</td>\n",
              "      <td>mattycus</td>\n",
              "      <td>@Kenichan I dived many times for the ball. Man...</td>\n",
              "    </tr>\n",
              "    <tr>\n",
              "      <th>3</th>\n",
              "      <td>0</td>\n",
              "      <td>1467811184</td>\n",
              "      <td>Mon Apr 06 22:19:57 PDT 2009</td>\n",
              "      <td>NO_QUERY</td>\n",
              "      <td>ElleCTF</td>\n",
              "      <td>my whole body feels itchy and like its on fire</td>\n",
              "    </tr>\n",
              "    <tr>\n",
              "      <th>4</th>\n",
              "      <td>0</td>\n",
              "      <td>1467811193</td>\n",
              "      <td>Mon Apr 06 22:19:57 PDT 2009</td>\n",
              "      <td>NO_QUERY</td>\n",
              "      <td>Karoli</td>\n",
              "      <td>@nationwideclass no, it's not behaving at all....</td>\n",
              "    </tr>\n",
              "  </tbody>\n",
              "</table>\n",
              "</div>"
            ],
            "text/plain": [
              "   0           1                             2         3                4  \\\n",
              "0  0  1467810369  Mon Apr 06 22:19:45 PDT 2009  NO_QUERY  _TheSpecialOne_   \n",
              "1  0  1467810672  Mon Apr 06 22:19:49 PDT 2009  NO_QUERY    scotthamilton   \n",
              "2  0  1467810917  Mon Apr 06 22:19:53 PDT 2009  NO_QUERY         mattycus   \n",
              "3  0  1467811184  Mon Apr 06 22:19:57 PDT 2009  NO_QUERY          ElleCTF   \n",
              "4  0  1467811193  Mon Apr 06 22:19:57 PDT 2009  NO_QUERY           Karoli   \n",
              "\n",
              "                                                   5  \n",
              "0  @switchfoot http://twitpic.com/2y1zl - Awww, t...  \n",
              "1  is upset that he can't update his Facebook by ...  \n",
              "2  @Kenichan I dived many times for the ball. Man...  \n",
              "3    my whole body feels itchy and like its on fire   \n",
              "4  @nationwideclass no, it's not behaving at all....  "
            ]
          },
          "metadata": {
            "tags": []
          },
          "execution_count": 6
        }
      ]
    },
    {
      "metadata": {
        "id": "233m0AX8wZsz",
        "colab_type": "code",
        "outputId": "8135dbf3-c23f-43a1-f7e6-c0e25643f2fa",
        "colab": {
          "base_uri": "https://localhost:8080/",
          "height": 204
        }
      },
      "cell_type": "code",
      "source": [
        "del data[1],data[2],data[3],data[4]\n",
        "data.head()"
      ],
      "execution_count": 0,
      "outputs": [
        {
          "output_type": "execute_result",
          "data": {
            "text/html": [
              "<div>\n",
              "<style scoped>\n",
              "    .dataframe tbody tr th:only-of-type {\n",
              "        vertical-align: middle;\n",
              "    }\n",
              "\n",
              "    .dataframe tbody tr th {\n",
              "        vertical-align: top;\n",
              "    }\n",
              "\n",
              "    .dataframe thead th {\n",
              "        text-align: right;\n",
              "    }\n",
              "</style>\n",
              "<table border=\"1\" class=\"dataframe\">\n",
              "  <thead>\n",
              "    <tr style=\"text-align: right;\">\n",
              "      <th></th>\n",
              "      <th>0</th>\n",
              "      <th>5</th>\n",
              "    </tr>\n",
              "  </thead>\n",
              "  <tbody>\n",
              "    <tr>\n",
              "      <th>0</th>\n",
              "      <td>0</td>\n",
              "      <td>@switchfoot http://twitpic.com/2y1zl - Awww, t...</td>\n",
              "    </tr>\n",
              "    <tr>\n",
              "      <th>1</th>\n",
              "      <td>0</td>\n",
              "      <td>is upset that he can't update his Facebook by ...</td>\n",
              "    </tr>\n",
              "    <tr>\n",
              "      <th>2</th>\n",
              "      <td>0</td>\n",
              "      <td>@Kenichan I dived many times for the ball. Man...</td>\n",
              "    </tr>\n",
              "    <tr>\n",
              "      <th>3</th>\n",
              "      <td>0</td>\n",
              "      <td>my whole body feels itchy and like its on fire</td>\n",
              "    </tr>\n",
              "    <tr>\n",
              "      <th>4</th>\n",
              "      <td>0</td>\n",
              "      <td>@nationwideclass no, it's not behaving at all....</td>\n",
              "    </tr>\n",
              "  </tbody>\n",
              "</table>\n",
              "</div>"
            ],
            "text/plain": [
              "   0                                                  5\n",
              "0  0  @switchfoot http://twitpic.com/2y1zl - Awww, t...\n",
              "1  0  is upset that he can't update his Facebook by ...\n",
              "2  0  @Kenichan I dived many times for the ball. Man...\n",
              "3  0    my whole body feels itchy and like its on fire \n",
              "4  0  @nationwideclass no, it's not behaving at all...."
            ]
          },
          "metadata": {
            "tags": []
          },
          "execution_count": 7
        }
      ]
    },
    {
      "metadata": {
        "id": "C659B6qGc09E",
        "colab_type": "code",
        "colab": {}
      },
      "cell_type": "code",
      "source": [
        "data[0] = data[0].apply(lambda x: 1 if x == 4 else 0)"
      ],
      "execution_count": 0,
      "outputs": []
    },
    {
      "metadata": {
        "id": "11U78eDyeDtw",
        "colab_type": "code",
        "outputId": "4c1f9515-f0d1-44c3-d113-8f3ee2d4ca17",
        "colab": {
          "base_uri": "https://localhost:8080/",
          "height": 204
        }
      },
      "cell_type": "code",
      "source": [
        "data.columns = [\"sentiment\",\"tweet\"]\n",
        "data = data.sample(frac=1).reset_index(drop=True)\n",
        "data.head()"
      ],
      "execution_count": 0,
      "outputs": [
        {
          "output_type": "execute_result",
          "data": {
            "text/html": [
              "<div>\n",
              "<style scoped>\n",
              "    .dataframe tbody tr th:only-of-type {\n",
              "        vertical-align: middle;\n",
              "    }\n",
              "\n",
              "    .dataframe tbody tr th {\n",
              "        vertical-align: top;\n",
              "    }\n",
              "\n",
              "    .dataframe thead th {\n",
              "        text-align: right;\n",
              "    }\n",
              "</style>\n",
              "<table border=\"1\" class=\"dataframe\">\n",
              "  <thead>\n",
              "    <tr style=\"text-align: right;\">\n",
              "      <th></th>\n",
              "      <th>sentiment</th>\n",
              "      <th>tweet</th>\n",
              "    </tr>\n",
              "  </thead>\n",
              "  <tbody>\n",
              "    <tr>\n",
              "      <th>0</th>\n",
              "      <td>1</td>\n",
              "      <td>@Kekeluvsday26 Thanks</td>\n",
              "    </tr>\n",
              "    <tr>\n",
              "      <th>1</th>\n",
              "      <td>0</td>\n",
              "      <td>@felixmeister yeah, wish i could pull that one</td>\n",
              "    </tr>\n",
              "    <tr>\n",
              "      <th>2</th>\n",
              "      <td>1</td>\n",
              "      <td>@epidaetia whats bad abt it? good thing indeed...</td>\n",
              "    </tr>\n",
              "    <tr>\n",
              "      <th>3</th>\n",
              "      <td>0</td>\n",
              "      <td>My tummy hurts</td>\n",
              "    </tr>\n",
              "    <tr>\n",
              "      <th>4</th>\n",
              "      <td>1</td>\n",
              "      <td>~@OzAtheist It was a keystroke error... honest</td>\n",
              "    </tr>\n",
              "  </tbody>\n",
              "</table>\n",
              "</div>"
            ],
            "text/plain": [
              "   sentiment                                              tweet\n",
              "0          1                             @Kekeluvsday26 Thanks \n",
              "1          0    @felixmeister yeah, wish i could pull that one \n",
              "2          1  @epidaetia whats bad abt it? good thing indeed...\n",
              "3          0                                    My tummy hurts \n",
              "4          1    ~@OzAtheist It was a keystroke error... honest "
            ]
          },
          "metadata": {
            "tags": []
          },
          "execution_count": 9
        }
      ]
    },
    {
      "metadata": {
        "id": "k_vuTL_nYJ5D",
        "colab_type": "code",
        "outputId": "1524ccdc-bf9d-4f17-c866-cb359ddb2e27",
        "colab": {
          "base_uri": "https://localhost:8080/",
          "height": 204
        }
      },
      "cell_type": "code",
      "source": [
        "data.head()"
      ],
      "execution_count": 0,
      "outputs": [
        {
          "output_type": "execute_result",
          "data": {
            "text/html": [
              "<div>\n",
              "<style scoped>\n",
              "    .dataframe tbody tr th:only-of-type {\n",
              "        vertical-align: middle;\n",
              "    }\n",
              "\n",
              "    .dataframe tbody tr th {\n",
              "        vertical-align: top;\n",
              "    }\n",
              "\n",
              "    .dataframe thead th {\n",
              "        text-align: right;\n",
              "    }\n",
              "</style>\n",
              "<table border=\"1\" class=\"dataframe\">\n",
              "  <thead>\n",
              "    <tr style=\"text-align: right;\">\n",
              "      <th></th>\n",
              "      <th>sentiment</th>\n",
              "      <th>tweet</th>\n",
              "    </tr>\n",
              "  </thead>\n",
              "  <tbody>\n",
              "    <tr>\n",
              "      <th>0</th>\n",
              "      <td>1</td>\n",
              "      <td>@Kekeluvsday26 Thanks</td>\n",
              "    </tr>\n",
              "    <tr>\n",
              "      <th>1</th>\n",
              "      <td>0</td>\n",
              "      <td>@felixmeister yeah, wish i could pull that one</td>\n",
              "    </tr>\n",
              "    <tr>\n",
              "      <th>2</th>\n",
              "      <td>1</td>\n",
              "      <td>@epidaetia whats bad abt it? good thing indeed...</td>\n",
              "    </tr>\n",
              "    <tr>\n",
              "      <th>3</th>\n",
              "      <td>0</td>\n",
              "      <td>My tummy hurts</td>\n",
              "    </tr>\n",
              "    <tr>\n",
              "      <th>4</th>\n",
              "      <td>1</td>\n",
              "      <td>~@OzAtheist It was a keystroke error... honest</td>\n",
              "    </tr>\n",
              "  </tbody>\n",
              "</table>\n",
              "</div>"
            ],
            "text/plain": [
              "   sentiment                                              tweet\n",
              "0          1                             @Kekeluvsday26 Thanks \n",
              "1          0    @felixmeister yeah, wish i could pull that one \n",
              "2          1  @epidaetia whats bad abt it? good thing indeed...\n",
              "3          0                                    My tummy hurts \n",
              "4          1    ~@OzAtheist It was a keystroke error... honest "
            ]
          },
          "metadata": {
            "tags": []
          },
          "execution_count": 10
        }
      ]
    },
    {
      "metadata": {
        "id": "_ASUU5cidGFK",
        "colab_type": "code",
        "colab": {}
      },
      "cell_type": "code",
      "source": [
        "#####################################################\n",
        "################# Utility Functions #################\n",
        "#####################################################\n",
        "\n",
        "def replaceUserName(tweet):\n",
        "\ttweet = re.sub('@[^\\s]+','USERNAME',tweet)\n",
        "\treturn tweet\n",
        "\n",
        "def replaceLink(tweet):\n",
        "\ttweet = re.sub('((www\\.[^\\s]+)|((https|http)?://[^\\s]+))','URL',tweet)\n",
        "\treturn tweet\n",
        "\n",
        "def replaceWithTwoChar(tweet):\n",
        "    pattern = re.compile(r\"(.)\\1{1,}\") \n",
        "    tweet = pattern.sub(r\"\\1\\1\", tweet)\n",
        "    return tweet\n",
        "  \n",
        "stopWords = list(set(stopwords.words(\"english\")))\n",
        "stopWords = [str(word) for word in stopWords]\n",
        "MAXLEN = float('-inf')\n",
        "\n",
        "def cleanTweet(tweet):\n",
        "  global MAXLEN\n",
        "  tweet = tweet.strip().lower()\n",
        "  tweet = replaceUserName(tweet)\n",
        "  tweet = replaceLink(tweet)\n",
        "  tweet = replaceWithTwoChar(tweet)\n",
        "  wordsInTweet = tweet.split()\n",
        "  #Removing StopWords to reduce no. of features\n",
        "  #text = ' '.join([word for word in wordsInTweet if word not in stopWords])\n",
        "  #wordsInTweet =  text.split()\n",
        "\n",
        "  if MAXLEN < len(wordsInTweet):\n",
        "    MAXLEN = len(wordsInTweet)\n",
        "  return wordsInTweet"
      ],
      "execution_count": 0,
      "outputs": []
    },
    {
      "metadata": {
        "id": "9Kvx8qS-4U-K",
        "colab_type": "code",
        "outputId": "92a559f2-8b94-43e4-e5b5-71bd8d077773",
        "colab": {
          "base_uri": "https://localhost:8080/",
          "height": 34
        }
      },
      "cell_type": "code",
      "source": [
        "cleanTweet(data['tweet'][0])"
      ],
      "execution_count": 0,
      "outputs": [
        {
          "output_type": "execute_result",
          "data": {
            "text/plain": [
              "['USERNAME', 'thanks']"
            ]
          },
          "metadata": {
            "tags": []
          },
          "execution_count": 12
        }
      ]
    },
    {
      "metadata": {
        "id": "50TYxio6iSex",
        "colab_type": "code",
        "outputId": "fd9bfa20-3370-422f-a9ba-b6ea77d042f7",
        "colab": {
          "base_uri": "https://localhost:8080/",
          "height": 204
        }
      },
      "cell_type": "code",
      "source": [
        "data['tokens'] = data['tweet'].apply(lambda x: cleanTweet(x))\n",
        "data.head()"
      ],
      "execution_count": 0,
      "outputs": [
        {
          "output_type": "execute_result",
          "data": {
            "text/html": [
              "<div>\n",
              "<style scoped>\n",
              "    .dataframe tbody tr th:only-of-type {\n",
              "        vertical-align: middle;\n",
              "    }\n",
              "\n",
              "    .dataframe tbody tr th {\n",
              "        vertical-align: top;\n",
              "    }\n",
              "\n",
              "    .dataframe thead th {\n",
              "        text-align: right;\n",
              "    }\n",
              "</style>\n",
              "<table border=\"1\" class=\"dataframe\">\n",
              "  <thead>\n",
              "    <tr style=\"text-align: right;\">\n",
              "      <th></th>\n",
              "      <th>sentiment</th>\n",
              "      <th>tweet</th>\n",
              "      <th>tokens</th>\n",
              "    </tr>\n",
              "  </thead>\n",
              "  <tbody>\n",
              "    <tr>\n",
              "      <th>0</th>\n",
              "      <td>1</td>\n",
              "      <td>@Kekeluvsday26 Thanks</td>\n",
              "      <td>[USERNAME, thanks]</td>\n",
              "    </tr>\n",
              "    <tr>\n",
              "      <th>1</th>\n",
              "      <td>0</td>\n",
              "      <td>@felixmeister yeah, wish i could pull that one</td>\n",
              "      <td>[USERNAME, yeah,, wish, i, could, pull, that, ...</td>\n",
              "    </tr>\n",
              "    <tr>\n",
              "      <th>2</th>\n",
              "      <td>1</td>\n",
              "      <td>@epidaetia whats bad abt it? good thing indeed...</td>\n",
              "      <td>[USERNAME, whats, bad, abt, it?, good, thing, ...</td>\n",
              "    </tr>\n",
              "    <tr>\n",
              "      <th>3</th>\n",
              "      <td>0</td>\n",
              "      <td>My tummy hurts</td>\n",
              "      <td>[my, tummy, hurts]</td>\n",
              "    </tr>\n",
              "    <tr>\n",
              "      <th>4</th>\n",
              "      <td>1</td>\n",
              "      <td>~@OzAtheist It was a keystroke error... honest</td>\n",
              "      <td>[~USERNAME, it, was, a, keystroke, error.., ho...</td>\n",
              "    </tr>\n",
              "  </tbody>\n",
              "</table>\n",
              "</div>"
            ],
            "text/plain": [
              "   sentiment                                              tweet  \\\n",
              "0          1                             @Kekeluvsday26 Thanks    \n",
              "1          0    @felixmeister yeah, wish i could pull that one    \n",
              "2          1  @epidaetia whats bad abt it? good thing indeed...   \n",
              "3          0                                    My tummy hurts    \n",
              "4          1    ~@OzAtheist It was a keystroke error... honest    \n",
              "\n",
              "                                              tokens  \n",
              "0                                 [USERNAME, thanks]  \n",
              "1  [USERNAME, yeah,, wish, i, could, pull, that, ...  \n",
              "2  [USERNAME, whats, bad, abt, it?, good, thing, ...  \n",
              "3                                 [my, tummy, hurts]  \n",
              "4  [~USERNAME, it, was, a, keystroke, error.., ho...  "
            ]
          },
          "metadata": {
            "tags": []
          },
          "execution_count": 13
        }
      ]
    },
    {
      "metadata": {
        "id": "0I6TLF59ked1",
        "colab_type": "code",
        "colab": {}
      },
      "cell_type": "code",
      "source": [
        "del data['tweet']"
      ],
      "execution_count": 0,
      "outputs": []
    },
    {
      "metadata": {
        "id": "cQzLw_Ua1Vyj",
        "colab_type": "code",
        "colab": {}
      },
      "cell_type": "code",
      "source": [
        "MAX_NB_WORDS = 90000\n",
        "tokenizer = Tokenizer(num_words=MAX_NB_WORDS)\n",
        "total_size = 800000\n",
        "test_total_size = 150000\n",
        "tokenizer.fit_on_texts(data['tokens'][:total_size])"
      ],
      "execution_count": 0,
      "outputs": []
    },
    {
      "metadata": {
        "id": "UK1JCLQW2tEL",
        "colab_type": "code",
        "outputId": "3b55beca-e358-428a-e24d-52c6e4c95a3e",
        "colab": {
          "base_uri": "https://localhost:8080/",
          "height": 1717
        }
      },
      "cell_type": "code",
      "source": [
        "\n",
        "batch_size = total_size/100\n",
        "number_of_batches = 100\n",
        "train_seq = list()\n",
        "for i in range(number_of_batches):\n",
        "  print i+1,\"batch\"\n",
        "  batch_seq = tokenizer.texts_to_sequences(data[\"tokens\"][i*batch_size:(i+1)*batch_size])\n",
        "  train_seq = np.concatenate((train_seq,batch_seq))\n",
        "del batch_seq"
      ],
      "execution_count": 0,
      "outputs": [
        {
          "output_type": "stream",
          "text": [
            "1 batch\n",
            "2 batch\n",
            "3 batch\n",
            "4 batch\n",
            "5 batch\n",
            "6 batch\n",
            "7 batch\n",
            "8 batch\n",
            "9 batch\n",
            "10 batch\n",
            "11 batch\n",
            "12 batch\n",
            "13 batch\n",
            "14 batch\n",
            "15 batch\n",
            "16 batch\n",
            "17 batch\n",
            "18 batch\n",
            "19 batch\n",
            "20 batch\n",
            "21 batch\n",
            "22 batch\n",
            "23 batch\n",
            "24 batch\n",
            "25 batch\n",
            "26 batch\n",
            "27 batch\n",
            "28 batch\n",
            "29 batch\n",
            "30 batch\n",
            "31 batch\n",
            "32 batch\n",
            "33 batch\n",
            "34 batch\n",
            "35 batch\n",
            "36 batch\n",
            "37 batch\n",
            "38 batch\n",
            "39 batch\n",
            "40 batch\n",
            "41 batch\n",
            "42 batch\n",
            "43 batch\n",
            "44 batch\n",
            "45 batch\n",
            "46 batch\n",
            "47 batch\n",
            "48 batch\n",
            "49 batch\n",
            "50 batch\n",
            "51 batch\n",
            "52 batch\n",
            "53 batch\n",
            "54 batch\n",
            "55 batch\n",
            "56 batch\n",
            "57 batch\n",
            "58 batch\n",
            "59 batch\n",
            "60 batch\n",
            "61 batch\n",
            "62 batch\n",
            "63 batch\n",
            "64 batch\n",
            "65 batch\n",
            "66 batch\n",
            "67 batch\n",
            "68 batch\n",
            "69 batch\n",
            "70 batch\n",
            "71 batch\n",
            "72 batch\n",
            "73 batch\n",
            "74 batch\n",
            "75 batch\n",
            "76 batch\n",
            "77 batch\n",
            "78 batch\n",
            "79 batch\n",
            "80 batch\n",
            "81 batch\n",
            "82 batch\n",
            "83 batch\n",
            "84 batch\n",
            "85 batch\n",
            "86 batch\n",
            "87 batch\n",
            "88 batch\n",
            "89 batch\n",
            "90 batch\n",
            "91 batch\n",
            "92 batch\n",
            "93 batch\n",
            "94 batch\n",
            "95 batch\n",
            "96 batch\n",
            "97 batch\n",
            "98 batch\n",
            "99 batch\n",
            "100 batch\n"
          ],
          "name": "stdout"
        }
      ]
    },
    {
      "metadata": {
        "id": "wQH30SMRO1XZ",
        "colab_type": "code",
        "outputId": "777c9f55-7312-403e-8d86-90c23484f676",
        "colab": {
          "base_uri": "https://localhost:8080/",
          "height": 51
        }
      },
      "cell_type": "code",
      "source": [
        "print len(train_seq)\n",
        "print MAXLEN"
      ],
      "execution_count": 0,
      "outputs": [
        {
          "output_type": "stream",
          "text": [
            "800000\n",
            "64\n"
          ],
          "name": "stdout"
        }
      ]
    },
    {
      "metadata": {
        "id": "uI2JjdYuBMfh",
        "colab_type": "code",
        "colab": {}
      },
      "cell_type": "code",
      "source": [
        "MAXLEN += 10\n",
        "padded_train_sequences = pad_sequences(train_seq, maxlen=MAXLEN)\n",
        "del train_seq"
      ],
      "execution_count": 0,
      "outputs": []
    },
    {
      "metadata": {
        "id": "UQzl0_C_u7B4",
        "colab_type": "code",
        "outputId": "c64dd76c-9e03-41a1-b3cf-9e7cd15fa013",
        "colab": {
          "base_uri": "https://localhost:8080/",
          "height": 34
        }
      },
      "cell_type": "code",
      "source": [
        "len(padded_train_sequences)"
      ],
      "execution_count": 0,
      "outputs": [
        {
          "output_type": "execute_result",
          "data": {
            "text/plain": [
              "800000"
            ]
          },
          "metadata": {
            "tags": []
          },
          "execution_count": 19
        }
      ]
    },
    {
      "metadata": {
        "id": "W_AD8ihg3zpS",
        "colab_type": "code",
        "colab": {}
      },
      "cell_type": "code",
      "source": [
        "y_train = data['sentiment'][:total_size]"
      ],
      "execution_count": 0,
      "outputs": []
    },
    {
      "metadata": {
        "id": "1te7kALe5GXJ",
        "colab_type": "code",
        "outputId": "6045bf86-a4dc-412b-f014-11293284329f",
        "colab": {
          "base_uri": "https://localhost:8080/",
          "height": 34
        }
      },
      "cell_type": "code",
      "source": [
        "len(y_train)"
      ],
      "execution_count": 0,
      "outputs": [
        {
          "output_type": "execute_result",
          "data": {
            "text/plain": [
              "800000"
            ]
          },
          "metadata": {
            "tags": []
          },
          "execution_count": 21
        }
      ]
    },
    {
      "metadata": {
        "id": "Xk9sIu076kBy",
        "colab_type": "code",
        "outputId": "456830a3-95d1-4698-d761-04b912e37441",
        "colab": {
          "base_uri": "https://localhost:8080/",
          "height": 34
        }
      },
      "cell_type": "code",
      "source": [
        "y_test = data['sentiment'][total_size:total_size+test_total_size]\n",
        "len(y_test)"
      ],
      "execution_count": 0,
      "outputs": [
        {
          "output_type": "execute_result",
          "data": {
            "text/plain": [
              "150000"
            ]
          },
          "metadata": {
            "tags": []
          },
          "execution_count": 22
        }
      ]
    },
    {
      "metadata": {
        "id": "Z3hENb6K5KOL",
        "colab_type": "code",
        "colab": {}
      },
      "cell_type": "code",
      "source": [
        "def get_rnn_cnn_model():\n",
        "    embedding_dim = 300\n",
        "    inp = Input(shape=(MAXLEN, ))\n",
        "    embedding_matrix = np.random.random((MAX_NB_WORDS, embedding_dim))\n",
        "    x = Embedding(MAX_NB_WORDS, embedding_dim, weights=[embedding_matrix], input_length=MAXLEN, trainable=True)(inp)\n",
        "    x = SpatialDropout1D(0.3)(x)\n",
        "    x = Bidirectional(GRU(100, return_sequences=True))(x)\n",
        "    x = Conv1D(64, kernel_size = 2, padding = \"valid\", kernel_initializer = \"he_uniform\")(x)\n",
        "    avg_pool = GlobalAveragePooling1D()(x)\n",
        "    max_pool = GlobalMaxPooling1D()(x)\n",
        "    conc = concatenate([avg_pool, max_pool])\n",
        "    outp = Dense(1, activation=\"sigmoid\")(conc)\n",
        "    \n",
        "    model = Model(inputs=inp, outputs=outp)\n",
        "    model.compile(loss='binary_crossentropy',\n",
        "                  optimizer='adam',\n",
        "                  metrics=['accuracy'])\n",
        "    return model\n",
        "\n",
        "rnn_cnn_model = get_rnn_cnn_model()\n",
        "\n",
        "#plot_model(rnn_cnn_model, to_file='./images/article_5/rnn_cnn_model.png', show_shapes=True, show_layer_names=True)\n",
        "\n",
        "#plot_model(cnn_model_multi_channel, to_file='./images/article_5/cnn_model_multi_channel.png', show_shapes=True, show_layer_names=True)\n"
      ],
      "execution_count": 0,
      "outputs": []
    },
    {
      "metadata": {
        "id": "tVcbzOtx57ag",
        "colab_type": "code",
        "outputId": "dfc34417-0b23-499f-d46f-b9e4cc598edf",
        "colab": {
          "base_uri": "https://localhost:8080/",
          "height": 884
        }
      },
      "cell_type": "code",
      "source": [
        "batch_size = test_total_size/50\n",
        "number_of_batches = 50\n",
        "test_seq = list()\n",
        "for i in range(number_of_batches):\n",
        "  print i+1,\"batch\"\n",
        "  batch_seq = tokenizer.texts_to_sequences(data[\"tokens\"][total_size+i*batch_size:total_size+(i+1)*batch_size])\n",
        "  test_seq = np.concatenate((test_seq,batch_seq))\n",
        "del batch_seq\n",
        "print len(test_seq)"
      ],
      "execution_count": 0,
      "outputs": [
        {
          "output_type": "stream",
          "text": [
            "1 batch\n",
            "2 batch\n",
            "3 batch\n",
            "4 batch\n",
            "5 batch\n",
            "6 batch\n",
            "7 batch\n",
            "8 batch\n",
            "9 batch\n",
            "10 batch\n",
            "11 batch\n",
            "12 batch\n",
            "13 batch\n",
            "14 batch\n",
            "15 batch\n",
            "16 batch\n",
            "17 batch\n",
            "18 batch\n",
            "19 batch\n",
            "20 batch\n",
            "21 batch\n",
            "22 batch\n",
            "23 batch\n",
            "24 batch\n",
            "25 batch\n",
            "26 batch\n",
            "27 batch\n",
            "28 batch\n",
            "29 batch\n",
            "30 batch\n",
            "31 batch\n",
            "32 batch\n",
            "33 batch\n",
            "34 batch\n",
            "35 batch\n",
            "36 batch\n",
            "37 batch\n",
            "38 batch\n",
            "39 batch\n",
            "40 batch\n",
            "41 batch\n",
            "42 batch\n",
            "43 batch\n",
            "44 batch\n",
            "45 batch\n",
            "46 batch\n",
            "47 batch\n",
            "48 batch\n",
            "49 batch\n",
            "50 batch\n",
            "150000\n"
          ],
          "name": "stdout"
        }
      ]
    },
    {
      "metadata": {
        "id": "m8MNaMiO96Vy",
        "colab_type": "code",
        "outputId": "60c3a553-2f0e-4f3f-f9c7-9459cb1f2c18",
        "colab": {
          "base_uri": "https://localhost:8080/",
          "height": 34
        }
      },
      "cell_type": "code",
      "source": [
        "padded_test_sequences = pad_sequences(test_seq, maxlen=MAXLEN)\n",
        "del test_seq\n",
        "print len(padded_test_sequences),len(padded_test_sequences[0])"
      ],
      "execution_count": 0,
      "outputs": [
        {
          "output_type": "stream",
          "text": [
            "150000 74\n"
          ],
          "name": "stdout"
        }
      ]
    },
    {
      "metadata": {
        "id": "NT8yrWRk-zJH",
        "colab_type": "code",
        "outputId": "e0fab8ff-587b-4fe1-d2bf-aec63f0b9aa0",
        "colab": {
          "base_uri": "https://localhost:8080/",
          "height": 153
        }
      },
      "cell_type": "code",
      "source": [
        "batch_size = 256\n",
        "epochs = 4\n",
        "history = rnn_cnn_model.fit(x=padded_train_sequences, \n",
        "                    y=y_train, \n",
        "                    batch_size=batch_size, \n",
        "                    epochs=epochs, \n",
        "                    verbose=1)"
      ],
      "execution_count": 0,
      "outputs": [
        {
          "output_type": "stream",
          "text": [
            "Epoch 1/4\n",
            "800000/800000 [==============================] - 1092s 1ms/step - loss: 0.4603 - acc: 0.7787\n",
            "Epoch 2/4\n",
            "800000/800000 [==============================] - 1089s 1ms/step - loss: 0.3879 - acc: 0.8256\n",
            "Epoch 3/4\n",
            "800000/800000 [==============================] - 1089s 1ms/step - loss: 0.3561 - acc: 0.8425\n",
            "Epoch 4/4\n",
            "800000/800000 [==============================] - 1092s 1ms/step - loss: 0.3295 - acc: 0.8573\n"
          ],
          "name": "stdout"
        }
      ]
    },
    {
      "metadata": {
        "id": "NPwuiohN_eFQ",
        "colab_type": "code",
        "outputId": "b7fae5dc-dc14-47b9-f37f-9ce6208a987e",
        "colab": {
          "base_uri": "https://localhost:8080/",
          "height": 136
        }
      },
      "cell_type": "code",
      "source": [
        "y_pred_rnn = rnn_cnn_model.predict(padded_test_sequences, verbose=1, batch_size=2048)\n",
        "\n",
        "y_pred_rnn = pd.DataFrame(y_pred_rnn, columns=['prediction'])\n",
        "print y_pred_rnn.head()\n",
        "y_pred_rnn['prediction'] = y_pred_rnn['prediction'].map(lambda p: 1 if p >= 0.5 else 0)\n",
        "#y_pred_cnn_multi_channel.to_csv('./predictions/y_pred_cnn_multi_channel.csv', index=False)"
      ],
      "execution_count": 0,
      "outputs": [
        {
          "output_type": "stream",
          "text": [
            "150000/150000 [==============================] - 14s 96us/step\n",
            "   prediction\n",
            "0    0.930815\n",
            "1    0.622040\n",
            "2    0.994880\n",
            "3    0.300449\n",
            "4    0.037942\n"
          ],
          "name": "stdout"
        }
      ]
    },
    {
      "metadata": {
        "id": "NsF_dXTB_081",
        "colab_type": "code",
        "outputId": "df17cb4d-3a15-49bc-b685-b71e2bbfa83a",
        "colab": {
          "base_uri": "https://localhost:8080/",
          "height": 34
        }
      },
      "cell_type": "code",
      "source": [
        "from sklearn.metrics import accuracy_score\n",
        "#y_pred_cnn_multi_channel = pd.read_csv('./predictions/y_pred_cnn_multi_channel.csv')\n",
        "print(accuracy_score(y_test, y_pred_rnn))"
      ],
      "execution_count": 0,
      "outputs": [
        {
          "output_type": "stream",
          "text": [
            "0.8208266666666667\n"
          ],
          "name": "stdout"
        }
      ]
    },
    {
      "metadata": {
        "id": "faUaqi_LEk9J",
        "colab_type": "code",
        "colab": {}
      },
      "cell_type": "code",
      "source": [
        "rnn_cnn_model.save(\"cnn_rnn_stopwords_notRemoved.h5\")"
      ],
      "execution_count": 0,
      "outputs": []
    },
    {
      "metadata": {
        "id": "t-QggPW6E-9_",
        "colab_type": "code",
        "colab": {}
      },
      "cell_type": "code",
      "source": [
        ""
      ],
      "execution_count": 0,
      "outputs": []
    }
  ]
}